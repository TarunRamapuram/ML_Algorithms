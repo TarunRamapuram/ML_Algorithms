{
 "cells": [
  {
   "cell_type": "markdown",
   "id": "17041967",
   "metadata": {},
   "source": [
    "# 1. Dataset:"
   ]
  },
  {
   "cell_type": "code",
   "execution_count": 1,
   "id": "b143e459",
   "metadata": {},
   "outputs": [],
   "source": [
    "import numpy as np\n",
    "import pandas as pd\n",
    "from sklearn.metrics import recall_score, precision_score, accuracy_score"
   ]
  },
  {
   "cell_type": "code",
   "execution_count": 2,
   "id": "913901e1",
   "metadata": {},
   "outputs": [],
   "source": [
    "from sklearn.datasets import load_iris"
   ]
  },
  {
   "cell_type": "code",
   "execution_count": 3,
   "id": "0520b53a",
   "metadata": {},
   "outputs": [],
   "source": [
    "data = load_iris()"
   ]
  },
  {
   "cell_type": "code",
   "execution_count": 4,
   "id": "6751ccae",
   "metadata": {},
   "outputs": [
    {
     "data": {
      "text/plain": [
       "{'data': array([[5.1, 3.5, 1.4, 0.2],\n",
       "        [4.9, 3. , 1.4, 0.2],\n",
       "        [4.7, 3.2, 1.3, 0.2],\n",
       "        [4.6, 3.1, 1.5, 0.2],\n",
       "        [5. , 3.6, 1.4, 0.2],\n",
       "        [5.4, 3.9, 1.7, 0.4],\n",
       "        [4.6, 3.4, 1.4, 0.3],\n",
       "        [5. , 3.4, 1.5, 0.2],\n",
       "        [4.4, 2.9, 1.4, 0.2],\n",
       "        [4.9, 3.1, 1.5, 0.1],\n",
       "        [5.4, 3.7, 1.5, 0.2],\n",
       "        [4.8, 3.4, 1.6, 0.2],\n",
       "        [4.8, 3. , 1.4, 0.1],\n",
       "        [4.3, 3. , 1.1, 0.1],\n",
       "        [5.8, 4. , 1.2, 0.2],\n",
       "        [5.7, 4.4, 1.5, 0.4],\n",
       "        [5.4, 3.9, 1.3, 0.4],\n",
       "        [5.1, 3.5, 1.4, 0.3],\n",
       "        [5.7, 3.8, 1.7, 0.3],\n",
       "        [5.1, 3.8, 1.5, 0.3],\n",
       "        [5.4, 3.4, 1.7, 0.2],\n",
       "        [5.1, 3.7, 1.5, 0.4],\n",
       "        [4.6, 3.6, 1. , 0.2],\n",
       "        [5.1, 3.3, 1.7, 0.5],\n",
       "        [4.8, 3.4, 1.9, 0.2],\n",
       "        [5. , 3. , 1.6, 0.2],\n",
       "        [5. , 3.4, 1.6, 0.4],\n",
       "        [5.2, 3.5, 1.5, 0.2],\n",
       "        [5.2, 3.4, 1.4, 0.2],\n",
       "        [4.7, 3.2, 1.6, 0.2],\n",
       "        [4.8, 3.1, 1.6, 0.2],\n",
       "        [5.4, 3.4, 1.5, 0.4],\n",
       "        [5.2, 4.1, 1.5, 0.1],\n",
       "        [5.5, 4.2, 1.4, 0.2],\n",
       "        [4.9, 3.1, 1.5, 0.2],\n",
       "        [5. , 3.2, 1.2, 0.2],\n",
       "        [5.5, 3.5, 1.3, 0.2],\n",
       "        [4.9, 3.6, 1.4, 0.1],\n",
       "        [4.4, 3. , 1.3, 0.2],\n",
       "        [5.1, 3.4, 1.5, 0.2],\n",
       "        [5. , 3.5, 1.3, 0.3],\n",
       "        [4.5, 2.3, 1.3, 0.3],\n",
       "        [4.4, 3.2, 1.3, 0.2],\n",
       "        [5. , 3.5, 1.6, 0.6],\n",
       "        [5.1, 3.8, 1.9, 0.4],\n",
       "        [4.8, 3. , 1.4, 0.3],\n",
       "        [5.1, 3.8, 1.6, 0.2],\n",
       "        [4.6, 3.2, 1.4, 0.2],\n",
       "        [5.3, 3.7, 1.5, 0.2],\n",
       "        [5. , 3.3, 1.4, 0.2],\n",
       "        [7. , 3.2, 4.7, 1.4],\n",
       "        [6.4, 3.2, 4.5, 1.5],\n",
       "        [6.9, 3.1, 4.9, 1.5],\n",
       "        [5.5, 2.3, 4. , 1.3],\n",
       "        [6.5, 2.8, 4.6, 1.5],\n",
       "        [5.7, 2.8, 4.5, 1.3],\n",
       "        [6.3, 3.3, 4.7, 1.6],\n",
       "        [4.9, 2.4, 3.3, 1. ],\n",
       "        [6.6, 2.9, 4.6, 1.3],\n",
       "        [5.2, 2.7, 3.9, 1.4],\n",
       "        [5. , 2. , 3.5, 1. ],\n",
       "        [5.9, 3. , 4.2, 1.5],\n",
       "        [6. , 2.2, 4. , 1. ],\n",
       "        [6.1, 2.9, 4.7, 1.4],\n",
       "        [5.6, 2.9, 3.6, 1.3],\n",
       "        [6.7, 3.1, 4.4, 1.4],\n",
       "        [5.6, 3. , 4.5, 1.5],\n",
       "        [5.8, 2.7, 4.1, 1. ],\n",
       "        [6.2, 2.2, 4.5, 1.5],\n",
       "        [5.6, 2.5, 3.9, 1.1],\n",
       "        [5.9, 3.2, 4.8, 1.8],\n",
       "        [6.1, 2.8, 4. , 1.3],\n",
       "        [6.3, 2.5, 4.9, 1.5],\n",
       "        [6.1, 2.8, 4.7, 1.2],\n",
       "        [6.4, 2.9, 4.3, 1.3],\n",
       "        [6.6, 3. , 4.4, 1.4],\n",
       "        [6.8, 2.8, 4.8, 1.4],\n",
       "        [6.7, 3. , 5. , 1.7],\n",
       "        [6. , 2.9, 4.5, 1.5],\n",
       "        [5.7, 2.6, 3.5, 1. ],\n",
       "        [5.5, 2.4, 3.8, 1.1],\n",
       "        [5.5, 2.4, 3.7, 1. ],\n",
       "        [5.8, 2.7, 3.9, 1.2],\n",
       "        [6. , 2.7, 5.1, 1.6],\n",
       "        [5.4, 3. , 4.5, 1.5],\n",
       "        [6. , 3.4, 4.5, 1.6],\n",
       "        [6.7, 3.1, 4.7, 1.5],\n",
       "        [6.3, 2.3, 4.4, 1.3],\n",
       "        [5.6, 3. , 4.1, 1.3],\n",
       "        [5.5, 2.5, 4. , 1.3],\n",
       "        [5.5, 2.6, 4.4, 1.2],\n",
       "        [6.1, 3. , 4.6, 1.4],\n",
       "        [5.8, 2.6, 4. , 1.2],\n",
       "        [5. , 2.3, 3.3, 1. ],\n",
       "        [5.6, 2.7, 4.2, 1.3],\n",
       "        [5.7, 3. , 4.2, 1.2],\n",
       "        [5.7, 2.9, 4.2, 1.3],\n",
       "        [6.2, 2.9, 4.3, 1.3],\n",
       "        [5.1, 2.5, 3. , 1.1],\n",
       "        [5.7, 2.8, 4.1, 1.3],\n",
       "        [6.3, 3.3, 6. , 2.5],\n",
       "        [5.8, 2.7, 5.1, 1.9],\n",
       "        [7.1, 3. , 5.9, 2.1],\n",
       "        [6.3, 2.9, 5.6, 1.8],\n",
       "        [6.5, 3. , 5.8, 2.2],\n",
       "        [7.6, 3. , 6.6, 2.1],\n",
       "        [4.9, 2.5, 4.5, 1.7],\n",
       "        [7.3, 2.9, 6.3, 1.8],\n",
       "        [6.7, 2.5, 5.8, 1.8],\n",
       "        [7.2, 3.6, 6.1, 2.5],\n",
       "        [6.5, 3.2, 5.1, 2. ],\n",
       "        [6.4, 2.7, 5.3, 1.9],\n",
       "        [6.8, 3. , 5.5, 2.1],\n",
       "        [5.7, 2.5, 5. , 2. ],\n",
       "        [5.8, 2.8, 5.1, 2.4],\n",
       "        [6.4, 3.2, 5.3, 2.3],\n",
       "        [6.5, 3. , 5.5, 1.8],\n",
       "        [7.7, 3.8, 6.7, 2.2],\n",
       "        [7.7, 2.6, 6.9, 2.3],\n",
       "        [6. , 2.2, 5. , 1.5],\n",
       "        [6.9, 3.2, 5.7, 2.3],\n",
       "        [5.6, 2.8, 4.9, 2. ],\n",
       "        [7.7, 2.8, 6.7, 2. ],\n",
       "        [6.3, 2.7, 4.9, 1.8],\n",
       "        [6.7, 3.3, 5.7, 2.1],\n",
       "        [7.2, 3.2, 6. , 1.8],\n",
       "        [6.2, 2.8, 4.8, 1.8],\n",
       "        [6.1, 3. , 4.9, 1.8],\n",
       "        [6.4, 2.8, 5.6, 2.1],\n",
       "        [7.2, 3. , 5.8, 1.6],\n",
       "        [7.4, 2.8, 6.1, 1.9],\n",
       "        [7.9, 3.8, 6.4, 2. ],\n",
       "        [6.4, 2.8, 5.6, 2.2],\n",
       "        [6.3, 2.8, 5.1, 1.5],\n",
       "        [6.1, 2.6, 5.6, 1.4],\n",
       "        [7.7, 3. , 6.1, 2.3],\n",
       "        [6.3, 3.4, 5.6, 2.4],\n",
       "        [6.4, 3.1, 5.5, 1.8],\n",
       "        [6. , 3. , 4.8, 1.8],\n",
       "        [6.9, 3.1, 5.4, 2.1],\n",
       "        [6.7, 3.1, 5.6, 2.4],\n",
       "        [6.9, 3.1, 5.1, 2.3],\n",
       "        [5.8, 2.7, 5.1, 1.9],\n",
       "        [6.8, 3.2, 5.9, 2.3],\n",
       "        [6.7, 3.3, 5.7, 2.5],\n",
       "        [6.7, 3. , 5.2, 2.3],\n",
       "        [6.3, 2.5, 5. , 1.9],\n",
       "        [6.5, 3. , 5.2, 2. ],\n",
       "        [6.2, 3.4, 5.4, 2.3],\n",
       "        [5.9, 3. , 5.1, 1.8]]),\n",
       " 'target': array([0, 0, 0, 0, 0, 0, 0, 0, 0, 0, 0, 0, 0, 0, 0, 0, 0, 0, 0, 0, 0, 0,\n",
       "        0, 0, 0, 0, 0, 0, 0, 0, 0, 0, 0, 0, 0, 0, 0, 0, 0, 0, 0, 0, 0, 0,\n",
       "        0, 0, 0, 0, 0, 0, 1, 1, 1, 1, 1, 1, 1, 1, 1, 1, 1, 1, 1, 1, 1, 1,\n",
       "        1, 1, 1, 1, 1, 1, 1, 1, 1, 1, 1, 1, 1, 1, 1, 1, 1, 1, 1, 1, 1, 1,\n",
       "        1, 1, 1, 1, 1, 1, 1, 1, 1, 1, 1, 1, 2, 2, 2, 2, 2, 2, 2, 2, 2, 2,\n",
       "        2, 2, 2, 2, 2, 2, 2, 2, 2, 2, 2, 2, 2, 2, 2, 2, 2, 2, 2, 2, 2, 2,\n",
       "        2, 2, 2, 2, 2, 2, 2, 2, 2, 2, 2, 2, 2, 2, 2, 2, 2, 2]),\n",
       " 'frame': None,\n",
       " 'target_names': array(['setosa', 'versicolor', 'virginica'], dtype='<U10'),\n",
       " 'DESCR': '.. _iris_dataset:\\n\\nIris plants dataset\\n--------------------\\n\\n**Data Set Characteristics:**\\n\\n    :Number of Instances: 150 (50 in each of three classes)\\n    :Number of Attributes: 4 numeric, predictive attributes and the class\\n    :Attribute Information:\\n        - sepal length in cm\\n        - sepal width in cm\\n        - petal length in cm\\n        - petal width in cm\\n        - class:\\n                - Iris-Setosa\\n                - Iris-Versicolour\\n                - Iris-Virginica\\n                \\n    :Summary Statistics:\\n\\n    ============== ==== ==== ======= ===== ====================\\n                    Min  Max   Mean    SD   Class Correlation\\n    ============== ==== ==== ======= ===== ====================\\n    sepal length:   4.3  7.9   5.84   0.83    0.7826\\n    sepal width:    2.0  4.4   3.05   0.43   -0.4194\\n    petal length:   1.0  6.9   3.76   1.76    0.9490  (high!)\\n    petal width:    0.1  2.5   1.20   0.76    0.9565  (high!)\\n    ============== ==== ==== ======= ===== ====================\\n\\n    :Missing Attribute Values: None\\n    :Class Distribution: 33.3% for each of 3 classes.\\n    :Creator: R.A. Fisher\\n    :Donor: Michael Marshall (MARSHALL%PLU@io.arc.nasa.gov)\\n    :Date: July, 1988\\n\\nThe famous Iris database, first used by Sir R.A. Fisher. The dataset is taken\\nfrom Fisher\\'s paper. Note that it\\'s the same as in R, but not as in the UCI\\nMachine Learning Repository, which has two wrong data points.\\n\\nThis is perhaps the best known database to be found in the\\npattern recognition literature.  Fisher\\'s paper is a classic in the field and\\nis referenced frequently to this day.  (See Duda & Hart, for example.)  The\\ndata set contains 3 classes of 50 instances each, where each class refers to a\\ntype of iris plant.  One class is linearly separable from the other 2; the\\nlatter are NOT linearly separable from each other.\\n\\n.. topic:: References\\n\\n   - Fisher, R.A. \"The use of multiple measurements in taxonomic problems\"\\n     Annual Eugenics, 7, Part II, 179-188 (1936); also in \"Contributions to\\n     Mathematical Statistics\" (John Wiley, NY, 1950).\\n   - Duda, R.O., & Hart, P.E. (1973) Pattern Classification and Scene Analysis.\\n     (Q327.D83) John Wiley & Sons.  ISBN 0-471-22361-1.  See page 218.\\n   - Dasarathy, B.V. (1980) \"Nosing Around the Neighborhood: A New System\\n     Structure and Classification Rule for Recognition in Partially Exposed\\n     Environments\".  IEEE Transactions on Pattern Analysis and Machine\\n     Intelligence, Vol. PAMI-2, No. 1, 67-71.\\n   - Gates, G.W. (1972) \"The Reduced Nearest Neighbor Rule\".  IEEE Transactions\\n     on Information Theory, May 1972, 431-433.\\n   - See also: 1988 MLC Proceedings, 54-64.  Cheeseman et al\"s AUTOCLASS II\\n     conceptual clustering system finds 3 classes in the data.\\n   - Many, many more ...',\n",
       " 'feature_names': ['sepal length (cm)',\n",
       "  'sepal width (cm)',\n",
       "  'petal length (cm)',\n",
       "  'petal width (cm)'],\n",
       " 'filename': 'iris.csv',\n",
       " 'data_module': 'sklearn.datasets.data'}"
      ]
     },
     "execution_count": 4,
     "metadata": {},
     "output_type": "execute_result"
    }
   ],
   "source": [
    "data"
   ]
  },
  {
   "cell_type": "code",
   "execution_count": 5,
   "id": "bb9ca038",
   "metadata": {},
   "outputs": [],
   "source": [
    "dataset = pd.DataFrame(data['data'])"
   ]
  },
  {
   "cell_type": "code",
   "execution_count": 6,
   "id": "286075e0",
   "metadata": {},
   "outputs": [],
   "source": [
    "dataset.columns = ['sepal length',\n",
    "  'sepal width',\n",
    "  'petal length',\n",
    "  'petal width']"
   ]
  },
  {
   "cell_type": "code",
   "execution_count": 7,
   "id": "c07c2aa8",
   "metadata": {},
   "outputs": [],
   "source": [
    "dataset['variety'] = data['target']"
   ]
  },
  {
   "cell_type": "code",
   "execution_count": 8,
   "id": "e788e7a2",
   "metadata": {},
   "outputs": [
    {
     "data": {
      "text/html": [
       "<div>\n",
       "<style scoped>\n",
       "    .dataframe tbody tr th:only-of-type {\n",
       "        vertical-align: middle;\n",
       "    }\n",
       "\n",
       "    .dataframe tbody tr th {\n",
       "        vertical-align: top;\n",
       "    }\n",
       "\n",
       "    .dataframe thead th {\n",
       "        text-align: right;\n",
       "    }\n",
       "</style>\n",
       "<table border=\"1\" class=\"dataframe\">\n",
       "  <thead>\n",
       "    <tr style=\"text-align: right;\">\n",
       "      <th></th>\n",
       "      <th>sepal length</th>\n",
       "      <th>sepal width</th>\n",
       "      <th>petal length</th>\n",
       "      <th>petal width</th>\n",
       "      <th>variety</th>\n",
       "    </tr>\n",
       "  </thead>\n",
       "  <tbody>\n",
       "    <tr>\n",
       "      <th>0</th>\n",
       "      <td>5.1</td>\n",
       "      <td>3.5</td>\n",
       "      <td>1.4</td>\n",
       "      <td>0.2</td>\n",
       "      <td>0</td>\n",
       "    </tr>\n",
       "    <tr>\n",
       "      <th>1</th>\n",
       "      <td>4.9</td>\n",
       "      <td>3.0</td>\n",
       "      <td>1.4</td>\n",
       "      <td>0.2</td>\n",
       "      <td>0</td>\n",
       "    </tr>\n",
       "    <tr>\n",
       "      <th>2</th>\n",
       "      <td>4.7</td>\n",
       "      <td>3.2</td>\n",
       "      <td>1.3</td>\n",
       "      <td>0.2</td>\n",
       "      <td>0</td>\n",
       "    </tr>\n",
       "    <tr>\n",
       "      <th>3</th>\n",
       "      <td>4.6</td>\n",
       "      <td>3.1</td>\n",
       "      <td>1.5</td>\n",
       "      <td>0.2</td>\n",
       "      <td>0</td>\n",
       "    </tr>\n",
       "    <tr>\n",
       "      <th>4</th>\n",
       "      <td>5.0</td>\n",
       "      <td>3.6</td>\n",
       "      <td>1.4</td>\n",
       "      <td>0.2</td>\n",
       "      <td>0</td>\n",
       "    </tr>\n",
       "  </tbody>\n",
       "</table>\n",
       "</div>"
      ],
      "text/plain": [
       "   sepal length  sepal width  petal length  petal width  variety\n",
       "0           5.1          3.5           1.4          0.2        0\n",
       "1           4.9          3.0           1.4          0.2        0\n",
       "2           4.7          3.2           1.3          0.2        0\n",
       "3           4.6          3.1           1.5          0.2        0\n",
       "4           5.0          3.6           1.4          0.2        0"
      ]
     },
     "execution_count": 8,
     "metadata": {},
     "output_type": "execute_result"
    }
   ],
   "source": [
    "dataset.head(5)"
   ]
  },
  {
   "cell_type": "code",
   "execution_count": 9,
   "id": "bc37715e",
   "metadata": {},
   "outputs": [
    {
     "data": {
      "text/html": [
       "<div>\n",
       "<style scoped>\n",
       "    .dataframe tbody tr th:only-of-type {\n",
       "        vertical-align: middle;\n",
       "    }\n",
       "\n",
       "    .dataframe tbody tr th {\n",
       "        vertical-align: top;\n",
       "    }\n",
       "\n",
       "    .dataframe thead th {\n",
       "        text-align: right;\n",
       "    }\n",
       "</style>\n",
       "<table border=\"1\" class=\"dataframe\">\n",
       "  <thead>\n",
       "    <tr style=\"text-align: right;\">\n",
       "      <th></th>\n",
       "      <th>sepal length</th>\n",
       "      <th>sepal width</th>\n",
       "      <th>petal length</th>\n",
       "      <th>petal width</th>\n",
       "      <th>variety</th>\n",
       "    </tr>\n",
       "  </thead>\n",
       "  <tbody>\n",
       "    <tr>\n",
       "      <th>0</th>\n",
       "      <td>5.1</td>\n",
       "      <td>3.5</td>\n",
       "      <td>1.4</td>\n",
       "      <td>0.2</td>\n",
       "      <td>0</td>\n",
       "    </tr>\n",
       "    <tr>\n",
       "      <th>1</th>\n",
       "      <td>4.9</td>\n",
       "      <td>3.0</td>\n",
       "      <td>1.4</td>\n",
       "      <td>0.2</td>\n",
       "      <td>0</td>\n",
       "    </tr>\n",
       "    <tr>\n",
       "      <th>2</th>\n",
       "      <td>4.7</td>\n",
       "      <td>3.2</td>\n",
       "      <td>1.3</td>\n",
       "      <td>0.2</td>\n",
       "      <td>0</td>\n",
       "    </tr>\n",
       "    <tr>\n",
       "      <th>3</th>\n",
       "      <td>4.6</td>\n",
       "      <td>3.1</td>\n",
       "      <td>1.5</td>\n",
       "      <td>0.2</td>\n",
       "      <td>0</td>\n",
       "    </tr>\n",
       "    <tr>\n",
       "      <th>4</th>\n",
       "      <td>5.0</td>\n",
       "      <td>3.6</td>\n",
       "      <td>1.4</td>\n",
       "      <td>0.2</td>\n",
       "      <td>0</td>\n",
       "    </tr>\n",
       "    <tr>\n",
       "      <th>...</th>\n",
       "      <td>...</td>\n",
       "      <td>...</td>\n",
       "      <td>...</td>\n",
       "      <td>...</td>\n",
       "      <td>...</td>\n",
       "    </tr>\n",
       "    <tr>\n",
       "      <th>145</th>\n",
       "      <td>6.7</td>\n",
       "      <td>3.0</td>\n",
       "      <td>5.2</td>\n",
       "      <td>2.3</td>\n",
       "      <td>2</td>\n",
       "    </tr>\n",
       "    <tr>\n",
       "      <th>146</th>\n",
       "      <td>6.3</td>\n",
       "      <td>2.5</td>\n",
       "      <td>5.0</td>\n",
       "      <td>1.9</td>\n",
       "      <td>2</td>\n",
       "    </tr>\n",
       "    <tr>\n",
       "      <th>147</th>\n",
       "      <td>6.5</td>\n",
       "      <td>3.0</td>\n",
       "      <td>5.2</td>\n",
       "      <td>2.0</td>\n",
       "      <td>2</td>\n",
       "    </tr>\n",
       "    <tr>\n",
       "      <th>148</th>\n",
       "      <td>6.2</td>\n",
       "      <td>3.4</td>\n",
       "      <td>5.4</td>\n",
       "      <td>2.3</td>\n",
       "      <td>2</td>\n",
       "    </tr>\n",
       "    <tr>\n",
       "      <th>149</th>\n",
       "      <td>5.9</td>\n",
       "      <td>3.0</td>\n",
       "      <td>5.1</td>\n",
       "      <td>1.8</td>\n",
       "      <td>2</td>\n",
       "    </tr>\n",
       "  </tbody>\n",
       "</table>\n",
       "<p>149 rows × 5 columns</p>\n",
       "</div>"
      ],
      "text/plain": [
       "     sepal length  sepal width  petal length  petal width  variety\n",
       "0             5.1          3.5           1.4          0.2        0\n",
       "1             4.9          3.0           1.4          0.2        0\n",
       "2             4.7          3.2           1.3          0.2        0\n",
       "3             4.6          3.1           1.5          0.2        0\n",
       "4             5.0          3.6           1.4          0.2        0\n",
       "..            ...          ...           ...          ...      ...\n",
       "145           6.7          3.0           5.2          2.3        2\n",
       "146           6.3          2.5           5.0          1.9        2\n",
       "147           6.5          3.0           5.2          2.0        2\n",
       "148           6.2          3.4           5.4          2.3        2\n",
       "149           5.9          3.0           5.1          1.8        2\n",
       "\n",
       "[149 rows x 5 columns]"
      ]
     },
     "execution_count": 9,
     "metadata": {},
     "output_type": "execute_result"
    }
   ],
   "source": [
    "dataset = dataset.drop_duplicates()\n",
    "dataset"
   ]
  },
  {
   "cell_type": "code",
   "execution_count": 10,
   "id": "8242d336",
   "metadata": {},
   "outputs": [],
   "source": [
    "from sklearn.model_selection import train_test_split\n",
    "X = dataset.drop('variety', axis=1)\n",
    "y = dataset['variety']\n",
    "X_train, X_test, y_train, y_test = train_test_split(X, y, test_size=0.8, random_state = 2022)"
   ]
  },
  {
   "cell_type": "markdown",
   "id": "ec776a70",
   "metadata": {},
   "source": [
    "# 2. Implementation:"
   ]
  },
  {
   "cell_type": "code",
   "execution_count": 11,
   "id": "0d66c25d",
   "metadata": {},
   "outputs": [],
   "source": [
    "def distance(point1, point2):\n",
    "    dimentionality = len(point1)\n",
    "    dist = 0\n",
    "    \n",
    "    for i in range(dimentionality):\n",
    "        dist += (point1[i] - point2[i])**2\n",
    "        \n",
    "    dist = dist**(0.5)\n",
    "    return dist\n",
    "\n",
    "def dist_array(point, X, y):\n",
    "    arr = []\n",
    "    inv_dist = []\n",
    "    \n",
    "    \n",
    "    for i, p in enumerate(X):\n",
    "        arr.append(distance(point,p))\n",
    "        \n",
    "    df_temp = pd.DataFrame(X)\n",
    "    df_temp['y'] = y\n",
    "    df_temp['dist'] = arr\n",
    "        \n",
    "        \n",
    "    return df_temp.sort_values('dist')"
   ]
  },
  {
   "cell_type": "code",
   "execution_count": 12,
   "id": "88d11ce6",
   "metadata": {},
   "outputs": [
    {
     "name": "stdout",
     "output_type": "stream",
     "text": [
      "[6.4 2.8 5.6 2.1]\n",
      "[7.6 3.  6.6 2.1]\n",
      "[4.8 3.1 1.6 0.2]\n",
      "[6.4 3.1 5.5 1.8]\n",
      "[5.1 3.5 1.4 0.3]\n",
      "[4.4 2.9 1.4 0.2]\n",
      "[5.7 2.6 3.5 1. ]\n",
      "[5.5 2.4 3.8 1.1]\n",
      "[5.1 3.5 1.4 0.2]\n",
      "[5.8 2.7 4.1 1. ]\n",
      "[6.1 3.  4.6 1.4]\n",
      "[7.9 3.8 6.4 2. ]\n",
      "[6.6 2.9 4.6 1.3]\n",
      "[6.3 3.3 6.  2.5]\n",
      "[7.7 2.6 6.9 2.3]\n",
      "[5.4 3.9 1.7 0.4]\n",
      "[5.7 3.  4.2 1.2]\n",
      "[7.2 3.  5.8 1.6]\n",
      "[6.3 2.9 5.6 1.8]\n",
      "[5.8 2.6 4.  1.2]\n",
      "[5.5 3.5 1.3 0.2]\n",
      "[5.  3.5 1.6 0.6]\n",
      "[6.4 2.7 5.3 1.9]\n",
      "[5.1 3.4 1.5 0.2]\n",
      "[6.4 3.2 5.3 2.3]\n",
      "[6.3 2.8 5.1 1.5]\n",
      "[5.6 2.8 4.9 2. ]\n",
      "[5.4 3.4 1.7 0.2]\n",
      "[6.2 2.2 4.5 1.5]\n",
      "[6.3 2.5 5.  1.9]\n",
      "[4.4 3.  1.3 0.2]\n",
      "[5.8 2.7 3.9 1.2]\n",
      "[5.5 2.5 4.  1.3]\n",
      "[4.9 3.  1.4 0.2]\n",
      "[6.4 2.9 4.3 1.3]\n",
      "[4.6 3.4 1.4 0.3]\n",
      "[4.9 3.1 1.5 0.2]\n",
      "[5.6 2.5 3.9 1.1]\n",
      "[5.1 3.8 1.9 0.4]\n",
      "[5.2 2.7 3.9 1.4]\n",
      "[6.5 3.  5.2 2. ]\n",
      "[5.6 3.  4.5 1.5]\n",
      "[4.9 2.4 3.3 1. ]\n",
      "[7.3 2.9 6.3 1.8]\n",
      "[6.9 3.1 5.4 2.1]\n",
      "[6.3 3.4 5.6 2.4]\n",
      "[7.1 3.  5.9 2.1]\n",
      "[6.9 3.2 5.7 2.3]\n",
      "[4.6 3.1 1.5 0.2]\n",
      "[5.9 3.  5.1 1.8]\n",
      "[6.  2.9 4.5 1.5]\n",
      "[6.2 3.4 5.4 2.3]\n",
      "[6.7 3.1 5.6 2.4]\n",
      "[6.4 2.8 5.6 2.2]\n",
      "[4.6 3.6 1.  0.2]\n",
      "[7.  3.2 4.7 1.4]\n",
      "[5.4 3.  4.5 1.5]\n",
      "[5.1 3.8 1.5 0.3]\n",
      "[6.1 2.8 4.  1.3]\n",
      "[5.  3.2 1.2 0.2]\n",
      "[5.  3.5 1.3 0.3]\n",
      "[5.7 2.8 4.1 1.3]\n",
      "[6.5 2.8 4.6 1.5]\n",
      "[5.  2.  3.5 1. ]\n",
      "[7.7 3.8 6.7 2.2]\n",
      "[6.7 3.  5.2 2.3]\n",
      "[6.7 3.1 4.7 1.5]\n",
      "[6.1 2.8 4.7 1.2]\n",
      "[7.2 3.6 6.1 2.5]\n",
      "[5.  3.  1.6 0.2]\n",
      "[5.4 3.7 1.5 0.2]\n",
      "[5.  3.6 1.4 0.2]\n",
      "[5.2 4.1 1.5 0.1]\n",
      "[6.  2.2 4.  1. ]\n",
      "[6.5 3.2 5.1 2. ]\n",
      "[6.7 3.1 4.4 1.4]\n",
      "[5.  3.4 1.5 0.2]\n",
      "[5.  3.4 1.6 0.4]\n",
      "[5.4 3.4 1.5 0.4]\n",
      "[6.1 3.  4.9 1.8]\n",
      "[5.9 3.2 4.8 1.8]\n",
      "[4.9 3.1 1.5 0.1]\n",
      "[5.2 3.4 1.4 0.2]\n",
      "[5.7 2.8 4.5 1.3]\n",
      "[5.  3.3 1.4 0.2]\n",
      "[4.6 3.2 1.4 0.2]\n",
      "[6.5 3.  5.8 2.2]\n",
      "[4.7 3.2 1.6 0.2]\n",
      "[6.9 3.1 5.1 2.3]\n",
      "[6.4 3.2 4.5 1.5]\n",
      "[6.3 2.7 4.9 1.8]\n",
      "[7.7 3.  6.1 2.3]\n",
      "[4.9 2.5 4.5 1.7]\n",
      "[5.8 2.7 5.1 1.9]\n",
      "[6.8 3.2 5.9 2.3]\n",
      "[5.1 2.5 3.  1.1]\n",
      "[6.7 2.5 5.8 1.8]\n",
      "[4.7 3.2 1.3 0.2]\n",
      "[5.1 3.8 1.6 0.2]\n",
      "[6.6 3.  4.4 1.4]\n",
      "[6.7 3.3 5.7 2.1]\n",
      "[5.9 3.  4.2 1.5]\n",
      "[5.1 3.7 1.5 0.4]\n",
      "[6.  3.  4.8 1.8]\n",
      "[5.1 3.3 1.7 0.5]\n",
      "[6.1 2.9 4.7 1.4]\n",
      "[6.1 2.6 5.6 1.4]\n",
      "[6.  2.2 5.  1.5]\n",
      "[5.6 2.9 3.6 1.3]\n",
      "[6.7 3.3 5.7 2.5]\n",
      "[4.4 3.2 1.3 0.2]\n",
      "[6.9 3.1 4.9 1.5]\n",
      "[6.7 3.  5.  1.7]\n",
      "[4.3 3.  1.1 0.1]\n",
      "[5.7 2.9 4.2 1.3]\n",
      "[5.8 4.  1.2 0.2]\n",
      "[6.8 2.8 4.8 1.4]\n",
      "[5.5 2.6 4.4 1.2]\n",
      "[5.7 2.5 5.  2. ]\n",
      "[4.8 3.  1.4 0.3]\n"
     ]
    }
   ],
   "source": [
    "for point in X_test.values:\n",
    "    print(point)\n",
    "    dist = dist_array(point, X_train.values, y_train.values)\n",
    "    "
   ]
  },
  {
   "cell_type": "code",
   "execution_count": 13,
   "id": "b9dffa12",
   "metadata": {},
   "outputs": [
    {
     "data": {
      "text/html": [
       "<div>\n",
       "<style scoped>\n",
       "    .dataframe tbody tr th:only-of-type {\n",
       "        vertical-align: middle;\n",
       "    }\n",
       "\n",
       "    .dataframe tbody tr th {\n",
       "        vertical-align: top;\n",
       "    }\n",
       "\n",
       "    .dataframe thead th {\n",
       "        text-align: right;\n",
       "    }\n",
       "</style>\n",
       "<table border=\"1\" class=\"dataframe\">\n",
       "  <thead>\n",
       "    <tr style=\"text-align: right;\">\n",
       "      <th></th>\n",
       "      <th>sepal length</th>\n",
       "      <th>sepal width</th>\n",
       "      <th>petal length</th>\n",
       "      <th>petal width</th>\n",
       "    </tr>\n",
       "  </thead>\n",
       "  <tbody>\n",
       "    <tr>\n",
       "      <th>128</th>\n",
       "      <td>6.4</td>\n",
       "      <td>2.8</td>\n",
       "      <td>5.6</td>\n",
       "      <td>2.1</td>\n",
       "    </tr>\n",
       "    <tr>\n",
       "      <th>105</th>\n",
       "      <td>7.6</td>\n",
       "      <td>3.0</td>\n",
       "      <td>6.6</td>\n",
       "      <td>2.1</td>\n",
       "    </tr>\n",
       "    <tr>\n",
       "      <th>30</th>\n",
       "      <td>4.8</td>\n",
       "      <td>3.1</td>\n",
       "      <td>1.6</td>\n",
       "      <td>0.2</td>\n",
       "    </tr>\n",
       "    <tr>\n",
       "      <th>137</th>\n",
       "      <td>6.4</td>\n",
       "      <td>3.1</td>\n",
       "      <td>5.5</td>\n",
       "      <td>1.8</td>\n",
       "    </tr>\n",
       "    <tr>\n",
       "      <th>17</th>\n",
       "      <td>5.1</td>\n",
       "      <td>3.5</td>\n",
       "      <td>1.4</td>\n",
       "      <td>0.3</td>\n",
       "    </tr>\n",
       "    <tr>\n",
       "      <th>...</th>\n",
       "      <td>...</td>\n",
       "      <td>...</td>\n",
       "      <td>...</td>\n",
       "      <td>...</td>\n",
       "    </tr>\n",
       "    <tr>\n",
       "      <th>14</th>\n",
       "      <td>5.8</td>\n",
       "      <td>4.0</td>\n",
       "      <td>1.2</td>\n",
       "      <td>0.2</td>\n",
       "    </tr>\n",
       "    <tr>\n",
       "      <th>76</th>\n",
       "      <td>6.8</td>\n",
       "      <td>2.8</td>\n",
       "      <td>4.8</td>\n",
       "      <td>1.4</td>\n",
       "    </tr>\n",
       "    <tr>\n",
       "      <th>90</th>\n",
       "      <td>5.5</td>\n",
       "      <td>2.6</td>\n",
       "      <td>4.4</td>\n",
       "      <td>1.2</td>\n",
       "    </tr>\n",
       "    <tr>\n",
       "      <th>113</th>\n",
       "      <td>5.7</td>\n",
       "      <td>2.5</td>\n",
       "      <td>5.0</td>\n",
       "      <td>2.0</td>\n",
       "    </tr>\n",
       "    <tr>\n",
       "      <th>45</th>\n",
       "      <td>4.8</td>\n",
       "      <td>3.0</td>\n",
       "      <td>1.4</td>\n",
       "      <td>0.3</td>\n",
       "    </tr>\n",
       "  </tbody>\n",
       "</table>\n",
       "<p>120 rows × 4 columns</p>\n",
       "</div>"
      ],
      "text/plain": [
       "     sepal length  sepal width  petal length  petal width\n",
       "128           6.4          2.8           5.6          2.1\n",
       "105           7.6          3.0           6.6          2.1\n",
       "30            4.8          3.1           1.6          0.2\n",
       "137           6.4          3.1           5.5          1.8\n",
       "17            5.1          3.5           1.4          0.3\n",
       "..            ...          ...           ...          ...\n",
       "14            5.8          4.0           1.2          0.2\n",
       "76            6.8          2.8           4.8          1.4\n",
       "90            5.5          2.6           4.4          1.2\n",
       "113           5.7          2.5           5.0          2.0\n",
       "45            4.8          3.0           1.4          0.3\n",
       "\n",
       "[120 rows x 4 columns]"
      ]
     },
     "execution_count": 13,
     "metadata": {},
     "output_type": "execute_result"
    }
   ],
   "source": [
    "X_test"
   ]
  },
  {
   "cell_type": "code",
   "execution_count": 14,
   "id": "8c8837fe",
   "metadata": {},
   "outputs": [
    {
     "data": {
      "text/plain": [
       "(29, 6)"
      ]
     },
     "execution_count": 14,
     "metadata": {},
     "output_type": "execute_result"
    }
   ],
   "source": [
    "dist.shape"
   ]
  },
  {
   "cell_type": "code",
   "execution_count": 15,
   "id": "5fa5772f",
   "metadata": {},
   "outputs": [
    {
     "data": {
      "text/html": [
       "<div>\n",
       "<style scoped>\n",
       "    .dataframe tbody tr th:only-of-type {\n",
       "        vertical-align: middle;\n",
       "    }\n",
       "\n",
       "    .dataframe tbody tr th {\n",
       "        vertical-align: top;\n",
       "    }\n",
       "\n",
       "    .dataframe thead th {\n",
       "        text-align: right;\n",
       "    }\n",
       "</style>\n",
       "<table border=\"1\" class=\"dataframe\">\n",
       "  <thead>\n",
       "    <tr style=\"text-align: right;\">\n",
       "      <th></th>\n",
       "      <th>0</th>\n",
       "      <th>1</th>\n",
       "      <th>2</th>\n",
       "      <th>3</th>\n",
       "      <th>y</th>\n",
       "      <th>dist</th>\n",
       "    </tr>\n",
       "  </thead>\n",
       "  <tbody>\n",
       "    <tr>\n",
       "      <th>0</th>\n",
       "      <td>4.8</td>\n",
       "      <td>3.0</td>\n",
       "      <td>1.4</td>\n",
       "      <td>0.1</td>\n",
       "      <td>0</td>\n",
       "      <td>0.200000</td>\n",
       "    </tr>\n",
       "    <tr>\n",
       "      <th>19</th>\n",
       "      <td>4.8</td>\n",
       "      <td>3.4</td>\n",
       "      <td>1.6</td>\n",
       "      <td>0.2</td>\n",
       "      <td>0</td>\n",
       "      <td>0.458258</td>\n",
       "    </tr>\n",
       "    <tr>\n",
       "      <th>6</th>\n",
       "      <td>4.9</td>\n",
       "      <td>3.6</td>\n",
       "      <td>1.4</td>\n",
       "      <td>0.1</td>\n",
       "      <td>0</td>\n",
       "      <td>0.640312</td>\n",
       "    </tr>\n",
       "    <tr>\n",
       "      <th>24</th>\n",
       "      <td>4.8</td>\n",
       "      <td>3.4</td>\n",
       "      <td>1.9</td>\n",
       "      <td>0.2</td>\n",
       "      <td>0</td>\n",
       "      <td>0.648074</td>\n",
       "    </tr>\n",
       "    <tr>\n",
       "      <th>20</th>\n",
       "      <td>5.2</td>\n",
       "      <td>3.5</td>\n",
       "      <td>1.5</td>\n",
       "      <td>0.2</td>\n",
       "      <td>0</td>\n",
       "      <td>0.655744</td>\n",
       "    </tr>\n",
       "  </tbody>\n",
       "</table>\n",
       "</div>"
      ],
      "text/plain": [
       "      0    1    2    3  y      dist\n",
       "0   4.8  3.0  1.4  0.1  0  0.200000\n",
       "19  4.8  3.4  1.6  0.2  0  0.458258\n",
       "6   4.9  3.6  1.4  0.1  0  0.640312\n",
       "24  4.8  3.4  1.9  0.2  0  0.648074\n",
       "20  5.2  3.5  1.5  0.2  0  0.655744"
      ]
     },
     "execution_count": 15,
     "metadata": {},
     "output_type": "execute_result"
    }
   ],
   "source": [
    "dist.head()"
   ]
  },
  {
   "cell_type": "code",
   "execution_count": 16,
   "id": "a28a3d11",
   "metadata": {},
   "outputs": [],
   "source": [
    "def classification(df_temp, k):\n",
    "    class_votes = {}\n",
    "    df_temp2 = df_temp.head(k)\n",
    "    data = df_temp2.values\n",
    "    \n",
    "    number_of_classes = len(np.unique(y))\n",
    "    for typeclass in range(number_of_classes):\n",
    "        class_votes[typeclass] = 0\n",
    "    \n",
    "    \n",
    "    for row in data:\n",
    "        class_ = int(row[4])\n",
    "        weight = (1 / ((row[5]) + 1e-10))\n",
    "        class_votes[class_] += weight\n",
    "    \n",
    "    return max(class_votes, key=class_votes.get)\n"
   ]
  },
  {
   "cell_type": "markdown",
   "id": "e927dc55",
   "metadata": {},
   "source": [
    "**Just Printing the loop to check the data** "
   ]
  },
  {
   "cell_type": "code",
   "execution_count": 17,
   "id": "c2fb97c0",
   "metadata": {},
   "outputs": [],
   "source": [
    "class_votes = {}\n",
    "df_temp2 = dist.head(3)\n",
    "data = df_temp2.values"
   ]
  },
  {
   "cell_type": "code",
   "execution_count": 18,
   "id": "b6b94e77",
   "metadata": {},
   "outputs": [
    {
     "data": {
      "text/plain": [
       "array([[4.8       , 3.        , 1.4       , 0.1       , 0.        ,\n",
       "        0.2       ],\n",
       "       [4.8       , 3.4       , 1.6       , 0.2       , 0.        ,\n",
       "        0.45825757],\n",
       "       [4.9       , 3.6       , 1.4       , 0.1       , 0.        ,\n",
       "        0.64031242]])"
      ]
     },
     "execution_count": 18,
     "metadata": {},
     "output_type": "execute_result"
    }
   ],
   "source": [
    "data"
   ]
  },
  {
   "cell_type": "code",
   "execution_count": 19,
   "id": "e3a66250",
   "metadata": {},
   "outputs": [],
   "source": [
    "number_of_classes = len(np.unique(y))\n",
    "for typeclass in range(number_of_classes):\n",
    "    class_votes[typeclass] = 0"
   ]
  },
  {
   "cell_type": "code",
   "execution_count": 20,
   "id": "48921988",
   "metadata": {},
   "outputs": [
    {
     "data": {
      "text/plain": [
       "{0: 0, 1: 0, 2: 0}"
      ]
     },
     "execution_count": 20,
     "metadata": {},
     "output_type": "execute_result"
    }
   ],
   "source": [
    "class_votes"
   ]
  },
  {
   "cell_type": "code",
   "execution_count": 21,
   "id": "7a961f31",
   "metadata": {},
   "outputs": [
    {
     "name": "stdout",
     "output_type": "stream",
     "text": [
      "0\n",
      "0.19999999999999998\n",
      "5.0\n",
      "0\n",
      "0.45825756949558394\n",
      "2.182178902359924\n",
      "0\n",
      "0.640312423743285\n",
      "1.5617376188860603\n"
     ]
    }
   ],
   "source": [
    "for row in data:\n",
    "    class_ = (int(row[4]))\n",
    "    print(class_)\n",
    "    print((row[5]))\n",
    "    weight = 1 / row[5]\n",
    "    print(weight)\n",
    "    class_votes[class_] += weight"
   ]
  },
  {
   "cell_type": "code",
   "execution_count": 22,
   "id": "44edefe3",
   "metadata": {},
   "outputs": [
    {
     "data": {
      "text/plain": [
       "{0: 8.743916521245984, 1: 0, 2: 0}"
      ]
     },
     "execution_count": 22,
     "metadata": {},
     "output_type": "execute_result"
    }
   ],
   "source": [
    "class_votes"
   ]
  },
  {
   "cell_type": "markdown",
   "id": "9847a392",
   "metadata": {},
   "source": [
    "**End of it** "
   ]
  },
  {
   "cell_type": "markdown",
   "id": "909e565b",
   "metadata": {},
   "source": [
    "# 3. Evaluation:"
   ]
  },
  {
   "cell_type": "code",
   "execution_count": 23,
   "id": "41d4ac34",
   "metadata": {},
   "outputs": [],
   "source": [
    "def KNN_classification(X_train, y_train, X_test, y_test, k):\n",
    "    preds = []\n",
    "\n",
    "   \n",
    "    for point in X_test.values:\n",
    "\n",
    "        dist = dist_array(point, X_train.values, y_train.values)\n",
    "        class_ = classification(dist, k)\n",
    "        preds.append([class_])\n",
    "    predictions = pd.Series([pred[0] for pred in preds])\n",
    "    \n",
    "    accuracy = accuracy_score(predictions, y_test)\n",
    "    precision = precision_score(predictions, y_test, average='weighted')\n",
    "    recall = recall_score(predictions, y_test, average='weighted')\n",
    "    \n",
    "    \n",
    "    \n",
    "    return accuracy, precision, recall"
   ]
  },
  {
   "cell_type": "markdown",
   "id": "5b7e6e05",
   "metadata": {},
   "source": [
    "**Precision : Of all positive predictions, how many are really positive**\n",
    "\n",
    "**formula : (true positive / (true positive + false positive))**\n",
    "\n",
    "**recall : of all the real positive cases, how many are predicted positive**\n",
    "\n",
    "**formula : ((true postive)/(true positive + false negative))**"
   ]
  },
  {
   "cell_type": "markdown",
   "id": "c4cbf0d2",
   "metadata": {},
   "source": [
    "# Result for k = 3"
   ]
  },
  {
   "cell_type": "code",
   "execution_count": 24,
   "id": "680b01a5",
   "metadata": {},
   "outputs": [],
   "source": [
    "result = KNN_classification(X_train, y_train, X_test, y_test, 3)"
   ]
  },
  {
   "cell_type": "code",
   "execution_count": 25,
   "id": "fa8f4285",
   "metadata": {},
   "outputs": [
    {
     "name": "stdout",
     "output_type": "stream",
     "text": [
      "Accuracy of the Algorithm :  0.925\n",
      "Precision for Algorithm  :  0.9298076923076924\n",
      "Recall of Algorithm :  0.925\n"
     ]
    }
   ],
   "source": [
    "print(\"Accuracy of the Algorithm : \", result[0])\n",
    "print(\"Precision for Algorithm  : \", result[1])\n",
    "print(\"Recall of Algorithm : \", result[2])"
   ]
  },
  {
   "cell_type": "markdown",
   "id": "45fc8bea",
   "metadata": {},
   "source": [
    "# Result for k = 1"
   ]
  },
  {
   "cell_type": "code",
   "execution_count": 26,
   "id": "b01bb307",
   "metadata": {},
   "outputs": [],
   "source": [
    "result_1 = KNN_classification(X_train, y_train, X_test, y_test, 1)"
   ]
  },
  {
   "cell_type": "code",
   "execution_count": 27,
   "id": "197fa88a",
   "metadata": {},
   "outputs": [
    {
     "name": "stdout",
     "output_type": "stream",
     "text": [
      "Accuracy of the Algorithm :  0.9333333333333333\n",
      "Precision for Algorithm  :  0.9363858363858364\n",
      "Recall of Algorithm :  0.9333333333333333\n"
     ]
    }
   ],
   "source": [
    "print(\"Accuracy of the Algorithm : \", result_1[0])\n",
    "print(\"Precision for Algorithm  : \", result_1[1])\n",
    "print(\"Recall of Algorithm : \", result_1[2])"
   ]
  },
  {
   "cell_type": "markdown",
   "id": "292293b1",
   "metadata": {},
   "source": [
    "# Result for k = 5"
   ]
  },
  {
   "cell_type": "code",
   "execution_count": 28,
   "id": "a6dc4a6e",
   "metadata": {},
   "outputs": [],
   "source": [
    "result_5 = KNN_classification(X_train, y_train, X_test, y_test, 5)"
   ]
  },
  {
   "cell_type": "code",
   "execution_count": 29,
   "id": "7371e662",
   "metadata": {},
   "outputs": [
    {
     "name": "stdout",
     "output_type": "stream",
     "text": [
      "Accuracy of the Algorithm :  0.9333333333333333\n",
      "Precision for Algorithm  :  0.9363858363858364\n",
      "Recall of Algorithm :  0.9333333333333333\n"
     ]
    }
   ],
   "source": [
    "print(\"Accuracy of the Algorithm : \", result_5[0])\n",
    "print(\"Precision for Algorithm  : \", result_5[1])\n",
    "print(\"Recall of Algorithm : \", result_5[2])"
   ]
  },
  {
   "cell_type": "markdown",
   "id": "da0dd8bf",
   "metadata": {},
   "source": [
    "# Result for k = 7"
   ]
  },
  {
   "cell_type": "code",
   "execution_count": 30,
   "id": "84f6740f",
   "metadata": {},
   "outputs": [],
   "source": [
    "result_7 = KNN_classification(X_train, y_train, X_test, y_test, 7)"
   ]
  },
  {
   "cell_type": "code",
   "execution_count": 31,
   "id": "d29a5d7d",
   "metadata": {},
   "outputs": [
    {
     "name": "stdout",
     "output_type": "stream",
     "text": [
      "Accuracy of the Algorithm :  0.925\n",
      "Precision for Algorithm  :  0.9410714285714286\n",
      "Recall of Algorithm :  0.925\n"
     ]
    }
   ],
   "source": [
    "print(\"Accuracy of the Algorithm : \", result_7[0])\n",
    "print(\"Precision for Algorithm  : \", result_7[1])\n",
    "print(\"Recall of Algorithm : \", result_7[2])"
   ]
  }
 ],
 "metadata": {
  "kernelspec": {
   "display_name": "Python 3 (ipykernel)",
   "language": "python",
   "name": "python3"
  },
  "language_info": {
   "codemirror_mode": {
    "name": "ipython",
    "version": 3
   },
   "file_extension": ".py",
   "mimetype": "text/x-python",
   "name": "python",
   "nbconvert_exporter": "python",
   "pygments_lexer": "ipython3",
   "version": "3.11.9"
  }
 },
 "nbformat": 4,
 "nbformat_minor": 5
}
